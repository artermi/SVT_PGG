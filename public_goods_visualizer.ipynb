{
 "cells": [
  {
   "cell_type": "markdown",
   "id": "987197ab",
   "metadata": {},
   "source": [
    "# Public Goods Simulation Visualizer\n",
    "This notebook reads simulation summary data and snapshot JSON to visualize cooperation dynamics."
   ]
  },
  {
   "cell_type": "code",
   "execution_count": null,
   "id": "d339ed82",
   "metadata": {},
   "outputs": [],
   "source": [
    "# Load summary CSV\n",
    "import pandas as pd\n",
    "import matplotlib.pyplot as plt\n",
    "\n",
    "# Replace with your actual file name\n",
    "summary_path = 'data/r25v50_uniform_L100_A_summary.csv'\n",
    "df = pd.read_csv(summary_path)\n",
    "df.head()"
   ]
  },
  {
   "cell_type": "code",
   "execution_count": null,
   "id": "b2880b85",
   "metadata": {},
   "outputs": [],
   "source": [
    "# Plot cooperation over time\n",
    "plt.figure(figsize=(10, 4))\n",
    "plt.plot(df['time'], df['C'], label='Cooperation Fraction')\n",
    "plt.xlabel('Time')\n",
    "plt.ylabel('C(t)')\n",
    "plt.title('Global Cooperation Over Time')\n",
    "plt.grid(True)\n",
    "plt.legend()\n",
    "plt.show()"
   ]
  },
  {
   "cell_type": "code",
   "execution_count": null,
   "id": "f3a4d11e",
   "metadata": {},
   "outputs": [],
   "source": [
    "# Load and display a grid snapshot\n",
    "import json\n",
    "import numpy as np\n",
    "import matplotlib.pyplot as plt\n",
    "\n",
    "# Replace with your actual file name\n",
    "snapshot_path = 'data/r25v50_uniform_L100_A_100.json'\n",
    "with open(snapshot_path, 'r') as f:\n",
    "    snapshot = json.load(f)\n",
    "\n",
    "L = int(len(snapshot['grid'])**0.5)\n",
    "grid = np.array(snapshot['grid']).reshape((L, L))\n",
    "plt.imshow(grid, cmap='coolwarm', interpolation='nearest')\n",
    "plt.title(f\"Strategy Grid at t={snapshot['time']}\")\n",
    "plt.colorbar(label='Strategy')\n",
    "plt.show()"
   ]
  }
 ],
 "metadata": {
  "kernelspec": {
   "display_name": "Python 3 (ipykernel)",
   "language": "python",
   "name": "python3"
  },
  "language_info": {
   "codemirror_mode": {
    "name": "ipython",
    "version": 3
   },
   "file_extension": ".py",
   "mimetype": "text/x-python",
   "name": "python",
   "nbconvert_exporter": "python",
   "pygments_lexer": "ipython3",
   "version": "3.10.12"
  }
 },
 "nbformat": 4,
 "nbformat_minor": 5
}
